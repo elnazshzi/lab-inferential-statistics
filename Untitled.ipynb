{
 "cells": [
  {
   "cell_type": "markdown",
   "id": "2220b824",
   "metadata": {},
   "source": [
    "Step 1: Define the Hypotheses\n",
    "\n",
    "The null hypothesis:          H0: μ = 120 mm Hg\n",
    "The alternative hypothesis:   Ha: μ != 85 mm Hg\n"
   ]
  },
  {
   "cell_type": "markdown",
   "id": "be5ecf67",
   "metadata": {},
   "source": [
    "Step 2: Set the Significance Level\n",
    "\n",
    "Significance Level (α): Typically set at 0.05 for a two-tailed test.\n"
   ]
  },
  {
   "cell_type": "markdown",
   "id": "9096cb34",
   "metadata": {},
   "source": [
    "Step 3: \n",
    "Determine the Test Statistic. \n",
    "It is a two-tailed test.\n",
    "We will use the formula for the test statistic for a one-sample t-test.\n"
   ]
  },
  {
   "cell_type": "markdown",
   "id": "cad50a00",
   "metadata": {},
   "source": [
    "Step 4: Calculate the Test Statistic in Python\n"
   ]
  },
  {
   "cell_type": "code",
   "execution_count": 1,
   "id": "4983bdbd",
   "metadata": {},
   "outputs": [
    {
     "data": {
      "text/plain": [
       "4.761904761904759"
      ]
     },
     "execution_count": 1,
     "metadata": {},
     "output_type": "execute_result"
    }
   ],
   "source": [
    "import math \n",
    "\n",
    "sample_mean = 130.1\n",
    "sample_std = 21.21\n",
    "pop_mean = 120\n",
    "n = 100\n",
    "\n",
    "statistic = (sample_mean - pop_mean)/(sample_std/math.sqrt(n))\n",
    "statistic"
   ]
  },
  {
   "cell_type": "code",
   "execution_count": null,
   "id": "e15ff431",
   "metadata": {},
   "outputs": [],
   "source": []
  },
  {
   "cell_type": "markdown",
   "id": "af50b1b2",
   "metadata": {},
   "source": [
    "Step 5: Determine the Critical Value\n",
    "\n",
    "df = n-1 = 99 at α= 0.05\n",
    "\n",
    "\n",
    "For df =99 the critical t-values are approximately -1.984 and 1.984\n"
   ]
  },
  {
   "cell_type": "code",
   "execution_count": null,
   "id": "3e6ad509",
   "metadata": {},
   "outputs": [],
   "source": []
  },
  {
   "cell_type": "markdown",
   "id": "3329f0cc",
   "metadata": {},
   "source": [
    "Step 6: Make a Decision\n",
    "\n",
    "The calculated t is 4.76 and is bigger than the Critical t(1.98).\n",
    "We can say with 95% of confidence that we have enough evidence to discard the null hypothesis.\n",
    "So the group significantly different (with respect to systolic blood pressure!) from the regular population."
   ]
  },
  {
   "cell_type": "code",
   "execution_count": null,
   "id": "04b1c06c",
   "metadata": {},
   "outputs": [],
   "source": []
  }
 ],
 "metadata": {
  "kernelspec": {
   "display_name": "Python 3 (ipykernel)",
   "language": "python",
   "name": "python3"
  },
  "language_info": {
   "codemirror_mode": {
    "name": "ipython",
    "version": 3
   },
   "file_extension": ".py",
   "mimetype": "text/x-python",
   "name": "python",
   "nbconvert_exporter": "python",
   "pygments_lexer": "ipython3",
   "version": "3.11.5"
  }
 },
 "nbformat": 4,
 "nbformat_minor": 5
}
